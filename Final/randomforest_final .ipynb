{
 "cells": [
  {
   "cell_type": "code",
   "execution_count": 1,
   "source": [
    "#Import libraries\r\n",
    "import nltk\r\n",
    "import re\r\n",
    "import pandas as pd\r\n",
    "import pickle\r\n",
    "\r\n",
    "from nltk.corpus import twitter_samples\r\n",
    "from nltk.tag import pos_tag\r\n",
    "from nltk.stem import WordNetLemmatizer\r\n",
    "from nltk.corpus import stopwords\r\n",
    "\r\n",
    "from sklearn.feature_extraction.text import TfidfVectorizer\r\n",
    "from sklearn.model_selection import train_test_split\r\n",
    "from sklearn.ensemble import RandomForestClassifier"
   ],
   "outputs": [],
   "metadata": {}
  },
  {
   "cell_type": "code",
   "execution_count": 2,
   "source": [
    "#nltk.download('twitter_samples', 'wordnet', 'averaged_perceptron_tagger')\r\n",
    "\r\n",
    "#uncomment above statement if running on a new machine"
   ],
   "outputs": [],
   "metadata": {}
  },
  {
   "cell_type": "code",
   "execution_count": 3,
   "source": [
    "positive_tokens = twitter_samples.tokenized('positive_tweets.json')\r\n",
    "negative_tokens = twitter_samples.tokenized('negative_tweets.json')\r\n"
   ],
   "outputs": [],
   "metadata": {}
  },
  {
   "cell_type": "code",
   "execution_count": 4,
   "source": [
    "#Custom functions\r\n",
    "def clean_tokens(tokens):\r\n",
    "    lemmatizer = WordNetLemmatizer()\r\n",
    "    stop_words = stopwords.words('english')\r\n",
    "    clean_list = []\r\n",
    "    for token, tag in pos_tag(tokens):\r\n",
    "        token = token.lower()\r\n",
    "        token = re.sub(r'@[a-z0-9_]\\S+', '', token)\r\n",
    "        token = re.sub(r'#[a-z0-9_]\\S+', '', token)\r\n",
    "        token = re.sub(r'&[a-z0-9_]\\S+', '', token)\r\n",
    "        token = re.sub(r'[?!.+,;$£%&\"]+', '', token)\r\n",
    "        token = re.sub(r'rt[\\s]+', '', token)\r\n",
    "        token = re.sub(r'\\d+', '', token)\r\n",
    "        token = re.sub(r'\\$', '', token)\r\n",
    "        token = re.sub(r'rt+', '', token)\r\n",
    "        token = re.sub(r'https?:?\\/\\/\\S+', '', token)\r\n",
    "        if tag.startswith('NN'):\r\n",
    "            position = 'n'\r\n",
    "        elif tag.startswith('VB'):\r\n",
    "            position = 'v'\r\n",
    "        elif tag.startswith('RB'):\r\n",
    "            position = 'r'\r\n",
    "        elif tag.startswith('JJ'):\r\n",
    "            position = 'a'\r\n",
    "        else:\r\n",
    "            position = 'n'\r\n",
    "\r\n",
    "        clean_list.append(lemmatizer.lemmatize(token, pos = position))\r\n",
    "        clean_list = [i for i in clean_list if i not in stop_words and len(i) > 0 and i != ':']\r\n",
    "\r\n",
    "    return clean_list\r\n",
    "\r\n",
    "def data_prepare(tokens, status):\r\n",
    "    featureset = [(tweet, status) for tweet in tokens]\r\n",
    "    return featureset\r\n",
    "\r\n",
    "def featureset_prepare():\r\n",
    "    positive_featureset = data_prepare(list(map(clean_tokens, positive_tokens)), 'Positive')\r\n",
    "    negative_featureset = data_prepare(list(map(clean_tokens, negative_tokens)), 'Negative')\r\n",
    "    featureset = positive_featureset + negative_featureset\r\n",
    "\r\n",
    "    features = []\r\n",
    "    labels = []\r\n",
    "\r\n",
    "    for x in featureset:\r\n",
    "        features.append(x[0])\r\n",
    "        labels.append(x[1])\r\n",
    "\r\n",
    "    return features, labels\r\n",
    "\r\n",
    "def train_model():\r\n",
    "    rf_vectorizer = TfidfVectorizer(ngram_range = (1, 2), sublinear_tf = True, max_features = 3000, preprocessor = ' '.join)\r\n",
    "    vectorized_features = rf_vectorizer.fit_transform(featureset_prepare()[0])\r\n",
    "\r\n",
    "    X_train, X_test, y_train, y_test = train_test_split(vectorized_features, featureset_prepare()[1], test_size = 0.15, shuffle = True)\r\n",
    "    rf_classifier = RandomForestClassifier(n_estimators = 200)\r\n",
    "    rf_classifier = rf_classifier.fit(X_train, y_train)\r\n",
    "    pickle.dump(rf_classifier, open('rf_classifier', 'wb'))\r\n",
    "    pickle.dump(rf_vectorizer, open('rf_vectorizer', 'wb'))\r\n",
    "    print('Successfully saved classifier and vectorizer')\r\n",
    "    "
   ],
   "outputs": [],
   "metadata": {}
  },
  {
   "cell_type": "code",
   "execution_count": 5,
   "source": [
    "#Execute\r\n",
    "train_model()"
   ],
   "outputs": [
    {
     "output_type": "stream",
     "name": "stdout",
     "text": [
      "Successfully saved classifier and vectorizer\n"
     ]
    }
   ],
   "metadata": {}
  },
  {
   "cell_type": "code",
   "execution_count": null,
   "source": [],
   "outputs": [],
   "metadata": {}
  }
 ],
 "metadata": {
  "kernelspec": {
   "display_name": "Python 3",
   "language": "python",
   "name": "python3"
  },
  "language_info": {
   "codemirror_mode": {
    "name": "ipython",
    "version": 3
   },
   "file_extension": ".py",
   "mimetype": "text/x-python",
   "name": "python",
   "nbconvert_exporter": "python",
   "pygments_lexer": "ipython3",
   "version": "3.8.5"
  }
 },
 "nbformat": 4,
 "nbformat_minor": 4
}